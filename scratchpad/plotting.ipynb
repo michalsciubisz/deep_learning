{
 "cells": [
  {
   "cell_type": "code",
   "execution_count": 41,
   "metadata": {},
   "outputs": [],
   "source": [
    "import sys\n",
    "\n",
    "sys.path.append(\"../src\")\n",
    "sys.path.append(\"..\")"
   ]
  },
  {
   "cell_type": "code",
   "execution_count": 42,
   "metadata": {},
   "outputs": [],
   "source": [
    "import matplotlib.pyplot as plt\n",
    "import networkx as nx"
   ]
  },
  {
   "cell_type": "code",
   "execution_count": 43,
   "metadata": {},
   "outputs": [],
   "source": [
    "from app import test_case_1, test_genetic"
   ]
  },
  {
   "cell_type": "code",
   "execution_count": 44,
   "metadata": {},
   "outputs": [
    {
     "name": "stdout",
     "output_type": "stream",
     "text": [
      "(AlgorithmOutput(result={<objects.robot.Robot object at 0x000002620B80F790>: RobotRoute(route=[0, 6, 9, 0], items={6: 2, 9: 3}), <objects.robot.Robot object at 0x000002620B80F850>: RobotRoute(route=[0, 6, 0], items={6: 4}), <objects.robot.Robot object at 0x000002620B80F130>: RobotRoute(route=[0, 6, 0], items={6: 4}), <objects.robot.Robot object at 0x000002620B80F940>: RobotRoute(route=[0, 2, 6, 8, 1, 0], items={8: 1, 2: 2, 6: 2, 1: 1}), <objects.robot.Robot object at 0x000002620B80F4F0>: RobotRoute(route=[0, 7, 11, 0], items={11: 1, 7: 1}), <objects.robot.Robot object at 0x000002620B80F9D0>: RobotRoute(route=[0, 1, 0], items={1: 3})}), 1.78)\n",
      "[1.78, 1.78, 1.78, 1.78, 1.78, 1.78, 1.78, 1.78, 1.78, 1.78, 1.78, 1.78, 1.78, 1.78, 1.78, 1.78, 1.78, 1.78, 1.78, 1.78]\n"
     ]
    }
   ],
   "source": [
    "# alg = test_case_1()\n",
    "genetic = test_genetic()"
   ]
  },
  {
   "cell_type": "code",
   "execution_count": 49,
   "metadata": {},
   "outputs": [
    {
     "data": {
      "text/plain": [
       "NoneType"
      ]
     },
     "execution_count": 49,
     "metadata": {},
     "output_type": "execute_result"
    }
   ],
   "source": [
    "type(genetic)"
   ]
  },
  {
   "cell_type": "code",
   "execution_count": 46,
   "metadata": {},
   "outputs": [],
   "source": [
    "def plot(i):\n",
    "    G=nx.Graph()\n",
    "\n",
    "    routes = [alg.runtime_data['best_solutions'][-1][i]['path']]\n",
    "    print(routes)\n",
    "    edges = []\n",
    "    for r in routes:\n",
    "        route_edges = [(r[n],r[n+1]) for n in range(len(r)-1)]\n",
    "        G.add_nodes_from(r)\n",
    "        G.add_edges_from(route_edges)\n",
    "        edges.append(route_edges)\n",
    "\n",
    "    print(\"Graph has %d nodes with %d edges\" %(G.number_of_nodes(),    \n",
    "    G.number_of_edges()))\n",
    "\n",
    "    pos = nx.spring_layout(G)\n",
    "    nx.draw_networkx_nodes(G,pos=pos)\n",
    "    nx.draw_networkx_labels(G,pos=pos)\n",
    "    colors = ['r', 'b', 'y']\n",
    "    linewidths = [5,3,2]\n",
    "    for ctr, edgelist in enumerate(edges):\n",
    "        nx.draw_networkx_edges(G,pos=pos,edgelist=edgelist,edge_color = colors[ctr], width=linewidths[ctr])\n",
    "\n",
    "    plt.show()"
   ]
  },
  {
   "cell_type": "code",
   "execution_count": 47,
   "metadata": {},
   "outputs": [],
   "source": [
    "def plot_2(i):\n",
    "    G=nx.Graph(name=\"buba\")\n",
    "\n",
    "    robot, robot_route = genetic.best_solution\n",
    "    print(robot_route)\n",
    "    "
   ]
  },
  {
   "cell_type": "code",
   "execution_count": 48,
   "metadata": {},
   "outputs": [
    {
     "name": "stdout",
     "output_type": "stream",
     "text": [
      "(AlgorithmOutput(result={<objects.robot.Robot object at 0x000002620CA729A0>: RobotRoute(route=[0, 6, 0], items={6: 4}), <objects.robot.Robot object at 0x000002620CA72670>: RobotRoute(route=[0, 1, 9, 0], items={9: 1, 1: 4}), <objects.robot.Robot object at 0x000002620CA72880>: RobotRoute(route=[0, 6, 0], items={6: 4}), <objects.robot.Robot object at 0x000002620CA72F70>: RobotRoute(route=[0, 9, 8, 2, 0], items={9: 2, 8: 1, 2: 2}), <objects.robot.Robot object at 0x000002620CA72CA0>: RobotRoute(route=[0, 11, 6, 0], items={6: 2, 11: 1}), <objects.robot.Robot object at 0x000002620CA72340>: RobotRoute(route=[0, 7, 6, 0], items={7: 1, 6: 2})}), 1.56)\n",
      "[2.0, 2.0, 2.0, 2.0, 2.0, 2.0, 2.0, 2.0, 2.0, 2.0, 2.0, 1.78, 1.78, 1.78, 1.78, 1.78, 1.78, 1.78, 1.78, 1.56]\n"
     ]
    },
    {
     "ename": "TypeError",
     "evalue": "'NoneType' object is not iterable",
     "output_type": "error",
     "traceback": [
      "\u001b[1;31m---------------------------------------------------------------------------\u001b[0m",
      "\u001b[1;31mTypeError\u001b[0m                                 Traceback (most recent call last)",
      "\u001b[1;32m~\\AppData\\Local\\Temp\\ipykernel_17688\\2423606547.py\u001b[0m in \u001b[0;36m<module>\u001b[1;34m\u001b[0m\n\u001b[1;32m----> 1\u001b[1;33m \u001b[1;32mfor\u001b[0m \u001b[0mrobot\u001b[0m\u001b[1;33m,\u001b[0m \u001b[0mrobot_route\u001b[0m \u001b[1;32min\u001b[0m \u001b[0mtest_genetic\u001b[0m\u001b[1;33m(\u001b[0m\u001b[1;33m)\u001b[0m\u001b[1;33m:\u001b[0m\u001b[1;33m\u001b[0m\u001b[1;33m\u001b[0m\u001b[0m\n\u001b[0m\u001b[0;32m      2\u001b[0m     \u001b[0mplot\u001b[0m\u001b[1;33m(\u001b[0m\u001b[0mrobot\u001b[0m\u001b[1;33m,\u001b[0m \u001b[0mrobot_route\u001b[0m\u001b[1;33m)\u001b[0m\u001b[1;33m\u001b[0m\u001b[1;33m\u001b[0m\u001b[0m\n",
      "\u001b[1;31mTypeError\u001b[0m: 'NoneType' object is not iterable"
     ]
    }
   ],
   "source": [
    "for robot, robot_route in test_genetic():\n",
    "    plot(robot, robot_route)"
   ]
  },
  {
   "cell_type": "code",
   "execution_count": null,
   "metadata": {},
   "outputs": [
    {
     "data": {
      "image/png": "[encoded data removed]",
      "text/plain": [
       "<Figure size 640x480 with 1 Axes>"
      ]
     },
     "metadata": {},
     "output_type": "display_data"
    }
   ],
   "source": [
    "data = alg.runtime_data['best_scores'] + [(alg.runtime_data['params']['iter'], alg.runtime_data['best_scores'][-1][1])]\n",
    "x = [point[0] for point in data]\n",
    "y = [point[1] for point in data]\n",
    "\n",
    "# Create a step plot\n",
    "plt.step(x, y, where='post')\n",
    "\n",
    "# Title and labels\n",
    "plt.title('Step Plot of Data')\n",
    "plt.xlabel('X')\n",
    "plt.ylabel('Y')\n",
    "\n",
    "# Show plot\n",
    "plt.show()\n"
   ]
  }
 ],
 "metadata": {
  "kernelspec": {
   "display_name": "Python 3",
   "language": "python",
   "name": "python3"
  },
  "language_info": {
   "codemirror_mode": {
    "name": "ipython",
    "version": 3
   },
   "file_extension": ".py",
   "mimetype": "text/x-python",
   "name": "python",
   "nbconvert_exporter": "python",
   "pygments_lexer": "ipython3",
   "version": "3.9.13"
  }
 },
 "nbformat": 4,
 "nbformat_minor": 2
}
